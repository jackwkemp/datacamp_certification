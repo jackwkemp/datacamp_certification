{
 "cells": [
  {
   "cell_type": "markdown",
   "metadata": {
    "id": "bA5ajAmk7XH6"
   },
   "source": [
    "# DataCamp Certification Case Study\n",
    "\n",
    "### Project Brief\n",
    "\n",
    "You have been hired as a data scientist at a used car dealership in the UK. The sales team have been having problems with pricing used cars that arrive at the dealership and would like your help. Before they take any company wide action they would like you to work with the Toyota specialist to test your idea. They have already collected some data from other retailers on the price that a range of Toyota cars were listed at. It is known that cars that are more than £1500 above the estimated price will not sell. The sales team wants to know whether you can make predictions within this range.\n",
    "\n",
    "The presentation of your findings should be targeted at the Head of Sales, who has no technical data science background.\n",
    "\n",
    "The data you will use for this analysis can be accessed here: `\"data/toyota.csv\"`"
   ]
  },
  {
   "cell_type": "code",
   "execution_count": 2,
   "metadata": {
    "scrolled": true
   },
   "outputs": [
    {
     "data": {
      "text/html": [
       "<div>\n",
       "<style scoped>\n",
       "    .dataframe tbody tr th:only-of-type {\n",
       "        vertical-align: middle;\n",
       "    }\n",
       "\n",
       "    .dataframe tbody tr th {\n",
       "        vertical-align: top;\n",
       "    }\n",
       "\n",
       "    .dataframe thead th {\n",
       "        text-align: right;\n",
       "    }\n",
       "</style>\n",
       "<table border=\"1\" class=\"dataframe\">\n",
       "  <thead>\n",
       "    <tr style=\"text-align: right;\">\n",
       "      <th></th>\n",
       "      <th>price</th>\n",
       "      <th>model</th>\n",
       "      <th>year</th>\n",
       "      <th>transmission</th>\n",
       "      <th>mileage</th>\n",
       "      <th>fuelType</th>\n",
       "      <th>tax</th>\n",
       "      <th>mpg</th>\n",
       "      <th>engineSize</th>\n",
       "    </tr>\n",
       "  </thead>\n",
       "  <tbody>\n",
       "    <tr>\n",
       "      <th>0</th>\n",
       "      <td>16000</td>\n",
       "      <td>GT86</td>\n",
       "      <td>2016</td>\n",
       "      <td>Manual</td>\n",
       "      <td>24089</td>\n",
       "      <td>Petrol</td>\n",
       "      <td>265</td>\n",
       "      <td>36.2</td>\n",
       "      <td>2.0</td>\n",
       "    </tr>\n",
       "    <tr>\n",
       "      <th>1</th>\n",
       "      <td>15995</td>\n",
       "      <td>GT86</td>\n",
       "      <td>2017</td>\n",
       "      <td>Manual</td>\n",
       "      <td>18615</td>\n",
       "      <td>Petrol</td>\n",
       "      <td>145</td>\n",
       "      <td>36.2</td>\n",
       "      <td>2.0</td>\n",
       "    </tr>\n",
       "    <tr>\n",
       "      <th>2</th>\n",
       "      <td>13998</td>\n",
       "      <td>GT86</td>\n",
       "      <td>2015</td>\n",
       "      <td>Manual</td>\n",
       "      <td>27469</td>\n",
       "      <td>Petrol</td>\n",
       "      <td>265</td>\n",
       "      <td>36.2</td>\n",
       "      <td>2.0</td>\n",
       "    </tr>\n",
       "    <tr>\n",
       "      <th>3</th>\n",
       "      <td>18998</td>\n",
       "      <td>GT86</td>\n",
       "      <td>2017</td>\n",
       "      <td>Manual</td>\n",
       "      <td>14736</td>\n",
       "      <td>Petrol</td>\n",
       "      <td>150</td>\n",
       "      <td>36.2</td>\n",
       "      <td>2.0</td>\n",
       "    </tr>\n",
       "    <tr>\n",
       "      <th>4</th>\n",
       "      <td>17498</td>\n",
       "      <td>GT86</td>\n",
       "      <td>2017</td>\n",
       "      <td>Manual</td>\n",
       "      <td>36284</td>\n",
       "      <td>Petrol</td>\n",
       "      <td>145</td>\n",
       "      <td>36.2</td>\n",
       "      <td>2.0</td>\n",
       "    </tr>\n",
       "  </tbody>\n",
       "</table>\n",
       "</div>"
      ],
      "text/plain": [
       "   price  model  year transmission  mileage fuelType  tax   mpg  engineSize\n",
       "0  16000   GT86  2016       Manual    24089   Petrol  265  36.2         2.0\n",
       "1  15995   GT86  2017       Manual    18615   Petrol  145  36.2         2.0\n",
       "2  13998   GT86  2015       Manual    27469   Petrol  265  36.2         2.0\n",
       "3  18998   GT86  2017       Manual    14736   Petrol  150  36.2         2.0\n",
       "4  17498   GT86  2017       Manual    36284   Petrol  145  36.2         2.0"
      ]
     },
     "execution_count": 2,
     "metadata": {},
     "output_type": "execute_result"
    }
   ],
   "source": [
    "import pandas as pd\n",
    "\n",
    "# importing data\n",
    "df = pd.read_csv(\"data/toyota.csv\")\n",
    "\n",
    "# Re arranging df so price if first\n",
    "df = df[[\"price\", \"model\", \"year\", 'transmission', 'mileage', 'fuelType', 'tax', 'mpg', 'engineSize']]\n",
    "\n",
    "df.head()\n"
   ]
  },
  {
   "cell_type": "code",
   "execution_count": 3,
   "metadata": {},
   "outputs": [
    {
     "data": {
      "text/plain": [
       "<bound method NDFrame.describe of       price           model  year transmission  mileage fuelType  tax   mpg  \\\n",
       "0     16000            GT86  2016       Manual    24089   Petrol  265  36.2   \n",
       "1     15995            GT86  2017       Manual    18615   Petrol  145  36.2   \n",
       "2     13998            GT86  2015       Manual    27469   Petrol  265  36.2   \n",
       "3     18998            GT86  2017       Manual    14736   Petrol  150  36.2   \n",
       "4     17498            GT86  2017       Manual    36284   Petrol  145  36.2   \n",
       "...     ...             ...   ...          ...      ...      ...  ...   ...   \n",
       "6733   5500              IQ  2011    Automatic    30000   Petrol   20  58.9   \n",
       "6734   4985   Urban Cruiser  2011       Manual    36154   Petrol  125  50.4   \n",
       "6735   4995   Urban Cruiser  2012       Manual    46000   Diesel  125  57.6   \n",
       "6736   3995   Urban Cruiser  2011       Manual    60700   Petrol  125  50.4   \n",
       "6737   4495   Urban Cruiser  2011       Manual    45128   Petrol  125  50.4   \n",
       "\n",
       "      engineSize  \n",
       "0            2.0  \n",
       "1            2.0  \n",
       "2            2.0  \n",
       "3            2.0  \n",
       "4            2.0  \n",
       "...          ...  \n",
       "6733         1.0  \n",
       "6734         1.3  \n",
       "6735         1.4  \n",
       "6736         1.3  \n",
       "6737         1.3  \n",
       "\n",
       "[6738 rows x 9 columns]>"
      ]
     },
     "execution_count": 3,
     "metadata": {},
     "output_type": "execute_result"
    }
   ],
   "source": [
    "#breakdown + exploring data\n",
    "df.describe\n"
   ]
  },
  {
   "cell_type": "code",
   "execution_count": 4,
   "metadata": {},
   "outputs": [
    {
     "data": {
      "text/plain": [
       "price             int64\n",
       "model            object\n",
       "year              int64\n",
       "transmission     object\n",
       "mileage           int64\n",
       "fuelType         object\n",
       "tax               int64\n",
       "mpg             float64\n",
       "engineSize      float64\n",
       "dtype: object"
      ]
     },
     "execution_count": 4,
     "metadata": {},
     "output_type": "execute_result"
    }
   ],
   "source": [
    "df.dtypes"
   ]
  },
  {
   "cell_type": "code",
   "execution_count": 4,
   "metadata": {},
   "outputs": [
    {
     "data": {
      "text/plain": [
       "array([' GT86', ' Corolla', ' RAV4', ' Yaris', ' Auris', ' Aygo', ' C-HR',\n",
       "       ' Prius', ' Avensis', ' Verso', ' Hilux', ' PROACE VERSO',\n",
       "       ' Land Cruiser', ' Supra', ' Camry', ' Verso-S', ' IQ',\n",
       "       ' Urban Cruiser'], dtype=object)"
      ]
     },
     "execution_count": 4,
     "metadata": {},
     "output_type": "execute_result"
    }
   ],
   "source": [
    "# assessing all the unique values of model to make sure there are no duplicates or dodgy data\n",
    "df['model'].unique()"
   ]
  },
  {
   "cell_type": "code",
   "execution_count": 5,
   "metadata": {},
   "outputs": [
    {
     "data": {
      "text/plain": [
       "(6738, 9)"
      ]
     },
     "execution_count": 5,
     "metadata": {},
     "output_type": "execute_result"
    }
   ],
   "source": [
    "df.shape\n",
    "#getting an idea of the shape of the data"
   ]
  },
  {
   "cell_type": "code",
   "execution_count": 6,
   "metadata": {},
   "outputs": [],
   "source": [
    "target_variable = ['price']\n",
    "\n",
    "# independent variables:\n",
    "numerical_variables: ['year', 'mileage', 'tax', 'mpg', 'engineSize']\n",
    "    \n",
    "categorical_variables: ['model', 'transmission', 'fuelType']"
   ]
  },
  {
   "cell_type": "code",
   "execution_count": 7,
   "metadata": {},
   "outputs": [
    {
     "name": "stdout",
     "output_type": "stream",
     "text": [
      "               price      year   mileage       tax       mpg  engineSize\n",
      "price       1.000000  0.420959 -0.297936  0.214498 -0.039910    0.727592\n",
      "year        0.420959  1.000000 -0.727749  0.283455 -0.020607   -0.045567\n",
      "mileage    -0.297936 -0.727749  1.000000 -0.205285  0.044889    0.182615\n",
      "tax         0.214498  0.283455 -0.205285  1.000000 -0.430292    0.155727\n",
      "mpg        -0.039910 -0.020607  0.044889 -0.430292  1.000000   -0.106868\n",
      "engineSize  0.727592 -0.045567  0.182615  0.155727 -0.106868    1.000000\n"
     ]
    },
    {
     "data": {
      "image/png": "[encoded data removed]",
      "text/plain": [
       "<Figure size 432x288 with 2 Axes>"
      ]
     },
     "metadata": {
      "needs_background": "light"
     },
     "output_type": "display_data"
    }
   ],
   "source": [
    "#plotting a correlation plot - to assess numerical correlations\n",
    "import matplotlib.pyplot as plt\n",
    "import pandas as pd\n",
    "import seaborn as sb\n",
    "  \n",
    "data = df\n",
    "  \n",
    "print(data.corr())\n",
    "\n",
    "dataplot = sb.heatmap(data.corr(), cmap=\"YlGnBu\", annot=True)\n",
    "\n",
    "plt.show()"
   ]
  },
  {
   "cell_type": "code",
   "execution_count": 8,
   "metadata": {},
   "outputs": [
    {
     "data": {
      "image/png": "[encoded data removed]",
      "text/plain": [
       "<Figure size 432x288 with 1 Axes>"
      ]
     },
     "metadata": {
      "needs_background": "light"
     },
     "output_type": "display_data"
    }
   ],
   "source": [
    "#price vs year plot\n",
    "df.plot(x='year', y='price', style='o')\n",
    "plt.title('year vs Price')\n",
    "plt.xlabel('year')\n",
    "plt.ylabel('price')\n",
    "plt.show()"
   ]
  },
  {
   "cell_type": "code",
   "execution_count": 13,
   "metadata": {},
   "outputs": [
    {
     "data": {
      "image/png": "[encoded data removed]",
      "text/plain": [
       "<Figure size 432x288 with 1 Axes>"
      ]
     },
     "metadata": {
      "needs_background": "light"
     },
     "output_type": "display_data"
    }
   ],
   "source": [
    "#Price vs mpg plot\n",
    "df.plot(x='mpg', y='price', style='o')\n",
    "plt.title('mpg vs Price')\n",
    "plt.xlabel('mpg')\n",
    "plt.ylabel('price')\n",
    "plt.show()"
   ]
  },
  {
   "cell_type": "code",
   "execution_count": 14,
   "metadata": {},
   "outputs": [
    {
     "data": {
      "image/png": "[encoded data removed]",
      "text/plain": [
       "<Figure size 432x288 with 1 Axes>"
      ]
     },
     "metadata": {
      "needs_background": "light"
     },
     "output_type": "display_data"
    }
   ],
   "source": [
    "#Price vs engine size plot\n",
    "df.plot(x='engineSize', y='price', style='o')\n",
    "plt.title('engineSize vs Price')\n",
    "plt.xlabel('engineSize')\n",
    "plt.ylabel('price')\n",
    "plt.show()"
   ]
  },
  {
   "cell_type": "code",
   "execution_count": 15,
   "metadata": {},
   "outputs": [
    {
     "data": {
      "image/png": "[encoded data removed]",
      "text/plain": [
       "<Figure size 432x288 with 1 Axes>"
      ]
     },
     "metadata": {
      "needs_background": "light"
     },
     "output_type": "display_data"
    }
   ],
   "source": [
    "# Mileage vs price plot\n",
    "df.plot(x='mileage', y='price', style='o')\n",
    "plt.title('mileage vs Price')\n",
    "plt.xlabel('mileage')\n",
    "plt.ylabel('price')\n",
    "plt.show()"
   ]
  },
  {
   "cell_type": "code",
   "execution_count": null,
   "metadata": {},
   "outputs": [],
   "source": []
  },
  {
   "cell_type": "code",
   "execution_count": 4,
   "metadata": {},
   "outputs": [],
   "source": [
    "#preping data to split for model training\n",
    "\n",
    "X = df.loc[:, [ 'year', 'mileage', 'tax', 'mpg', 'engineSize', 'model', 'transmission', 'fuelType']]\n",
    "\n",
    "y = df['price']"
   ]
  },
  {
   "cell_type": "code",
   "execution_count": 5,
   "metadata": {},
   "outputs": [],
   "source": [
    "# subset all categorical variables\n",
    "cars_categorical = X.select_dtypes(include=['object'])\n",
    "\n",
    "# convert into dummies\n",
    "cars_dummies = pd.get_dummies(cars_categorical)\n",
    "\n",
    "# drop categorical variables \n",
    "X = X.drop(list(cars_categorical.columns), axis=1)\n",
    "\n",
    "# concat dummy variables with X\n",
    "X = pd.concat([X, cars_dummies], axis=1)"
   ]
  },
  {
   "cell_type": "code",
   "execution_count": 6,
   "metadata": {},
   "outputs": [
    {
     "data": {
      "text/plain": [
       "Index(['year', 'mileage', 'tax', 'mpg', 'engineSize', 'model_ Auris',\n",
       "       'model_ Avensis', 'model_ Aygo', 'model_ C-HR', 'model_ Camry',\n",
       "       'model_ Corolla', 'model_ GT86', 'model_ Hilux', 'model_ IQ',\n",
       "       'model_ Land Cruiser', 'model_ PROACE VERSO', 'model_ Prius',\n",
       "       'model_ RAV4', 'model_ Supra', 'model_ Urban Cruiser', 'model_ Verso',\n",
       "       'model_ Verso-S', 'model_ Yaris', 'transmission_Automatic',\n",
       "       'transmission_Manual', 'transmission_Other', 'transmission_Semi-Auto',\n",
       "       'fuelType_Diesel', 'fuelType_Hybrid', 'fuelType_Other',\n",
       "       'fuelType_Petrol'],\n",
       "      dtype='object')"
      ]
     },
     "execution_count": 6,
     "metadata": {},
     "output_type": "execute_result"
    }
   ],
   "source": [
    "# scaling the features\n",
    "from sklearn.preprocessing import scale\n",
    "\n",
    "cols = X.columns\n",
    "X = pd.DataFrame(scale(X))\n",
    "X.columns = cols\n",
    "X.columns"
   ]
  },
  {
   "cell_type": "code",
   "execution_count": 7,
   "metadata": {},
   "outputs": [],
   "source": [
    "#using train test split to convert data into usable format for the model\n",
    "from sklearn.model_selection import train_test_split\n",
    "X_train, X_test, y_train, y_test = train_test_split(X, y, \n",
    "                                                    train_size=0.7,\n",
    "                                                    test_size = 0.3, random_state=100)"
   ]
  },
  {
   "cell_type": "code",
   "execution_count": 21,
   "metadata": {},
   "outputs": [
    {
     "name": "stdout",
     "output_type": "stream",
     "text": [
      "0.9556734283740767\n"
     ]
    }
   ],
   "source": [
    "#gradient boosting model used\n",
    "from sklearn.ensemble import GradientBoostingRegressor\n",
    "\n",
    "# instantiate\n",
    "lm = GradientBoostingRegressor()\n",
    "# fit\n",
    "lm.fit(X_train, y_train)\n",
    "# predict \n",
    "y_pred = lm.predict(X_test)\n",
    "\n",
    "# metrics\n",
    "from sklearn.metrics import r2_score\n",
    "print(r2_score(y_true=y_test, y_pred=y_pred))\n",
    "\n",
    "#Perfomed quite well within time constraints - I'm concious of it overfitting - having more time time to explore different models and assess them whould have been good\n"
   ]
  },
  {
   "cell_type": "code",
   "execution_count": 22,
   "metadata": {},
   "outputs": [
    {
     "name": "stdout",
     "output_type": "stream",
     "text": [
      "0.927533672435197\n"
     ]
    }
   ],
   "source": [
    "#linear regression model used\n",
    "from sklearn.linear_model import LinearRegression\n",
    "# instantiate\n",
    "lm = LinearRegression()\n",
    "# fit\n",
    "lm.fit(X_train, y_train)\n",
    "# predict \n",
    "y_pred = lm.predict(X_test)\n",
    "# metrics\n",
    "from sklearn.metrics import r2_score\n",
    "print(r2_score(y_true=y_test, y_pred=y_pred))"
   ]
  },
  {
   "cell_type": "code",
   "execution_count": null,
   "metadata": {},
   "outputs": [],
   "source": [
    "#Kernal kept dropping out testing this model\n",
    "# from sklearn.ensemble import RandomForestClassifier\n",
    "\n",
    "# # instantiate\n",
    "# lm = RandomForestClassifier()\n",
    "# # fit\n",
    "# lm.fit(X_train, y_train)\n",
    "# # predict \n",
    "# y_pred = lm.predict(X_test)\n",
    "\n",
    "# # metrics\n",
    "# from sklearn.metrics import r2_score\n",
    "# print(r2_score(y_true=y_test, y_pred=y_pred))"
   ]
  },
  {
   "cell_type": "code",
   "execution_count": null,
   "metadata": {},
   "outputs": [],
   "source": []
  }
 ],
 "metadata": {
  "colab": {
   "name": "Welcome to DataCamp Workspaces.ipynb",
   "provenance": []
  },
  "kernelspec": {
   "display_name": "Python 3",
   "language": "python",
   "name": "python3"
  },
  "language_info": {
   "codemirror_mode": {
    "name": "ipython",
    "version": 3
   },
   "file_extension": ".py",
   "mimetype": "text/x-python",
   "name": "python",
   "nbconvert_exporter": "python",
   "pygments_lexer": "ipython3",
   "version": "3.8.5"
  }
 },
 "nbformat": 4,
 "nbformat_minor": 4
}
